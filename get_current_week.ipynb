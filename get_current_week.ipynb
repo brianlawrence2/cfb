{
 "cells": [
  {
   "cell_type": "code",
   "execution_count": 3,
   "metadata": {},
   "outputs": [
    {
     "name": "stdout",
     "output_type": "stream",
     "text": [
      "The sql extension is already loaded. To reload it, use:\n",
      "  %reload_ext sql\n"
     ]
    }
   ],
   "source": [
    "import time\n",
    "import datetime\n",
    "import os\n",
    "import keyring\n",
    "import cfbd\n",
    "import duckdb\n",
    "\n",
    "import numpy as np\n",
    "import pandas as pd\n",
    "\n",
    "from dateutil import relativedelta\n",
    "\n",
    "%load_ext sql\n",
    "\n",
    "%config SqlMagic.autopandas = True\n",
    "%config SqlMagic.feedback = False\n",
    "%config SqlMagic.displaycon = False\n",
    "%config SqlMagic.named_parameters=True\n",
    "\n",
    "%sql duckdb:///cfb.db"
   ]
  },
  {
   "cell_type": "code",
   "execution_count": 4,
   "metadata": {},
   "outputs": [],
   "source": [
    "configuration = cfbd.Configuration()\n",
    "configuration.api_key['Authorization'] = keyring.get_password('system', 'CFBD_API_KEY') #os.environ[\"CFBD_API_KEY\"] #\n",
    "configuration.api_key_prefix['Authorization'] = 'Bearer'\n",
    "\n",
    "api_config = cfbd.ApiClient(configuration)"
   ]
  },
  {
   "cell_type": "code",
   "execution_count": 5,
   "metadata": {},
   "outputs": [
    {
     "data": {
      "text/plain": [
       "'2023-12-02'"
      ]
     },
     "execution_count": 5,
     "metadata": {},
     "output_type": "execute_result"
    }
   ],
   "source": [
    "today = datetime.date.today()\n",
    "sat = today + relativedelta.relativedelta(weekday=relativedelta.SA(-1))\n",
    "sat.strftime('%Y-%m-%d')"
   ]
  },
  {
   "cell_type": "code",
   "execution_count": 6,
   "metadata": {},
   "outputs": [],
   "source": [
    "%%jupysql cal_df <<\n",
    "SELECT *, '{{sat}}' --'{{sat.strftime('%Y-%m-%d')}}'\n",
    "FROM calendar\n",
    "where '{{sat}}' between strptime(first_game_start,'%Y-%m-%dT%H:%M:%S.%gZ') and strptime(last_game_start,'%Y-%m-%dT%H:%M:%S.%gZ')\n",
    "order by season desc, week desc\n",
    "LIMIT 10"
   ]
  },
  {
   "cell_type": "code",
   "execution_count": 7,
   "metadata": {},
   "outputs": [
    {
     "data": {
      "text/plain": [
       "(2023, 14, 'regular')"
      ]
     },
     "execution_count": 7,
     "metadata": {},
     "output_type": "execute_result"
    }
   ],
   "source": [
    "season = 2023 #int(cal_df.loc[0,'season'])\n",
    "week = 14 #int(cal_df.loc[0,'week'])\n",
    "season_type = 'regular' #cal_df.loc[0,'season_type']\n",
    "season, week, season_type"
   ]
  },
  {
   "cell_type": "code",
   "execution_count": 8,
   "metadata": {},
   "outputs": [
    {
     "data": {
      "text/plain": [
       "<duckdb.duckdb.DuckDBPyConnection at 0x1613ba1f0>"
      ]
     },
     "execution_count": 8,
     "metadata": {},
     "output_type": "execute_result"
    }
   ],
   "source": [
    "games_api = cfbd.GamesApi(api_config)\n",
    "con = duckdb.connect('cfb.db')\n",
    "season_games = games_api.get_games(year=season,week=week,season_type=season_type)\n",
    "season_games_df = pd.DataFrame.from_records([g.to_dict() for g in season_games])\n",
    "con.execute(\"INSERT INTO games SELECT * from season_games_df\")\n",
    "con.commit()"
   ]
  },
  {
   "cell_type": "code",
   "execution_count": 9,
   "metadata": {},
   "outputs": [
    {
     "name": "stdout",
     "output_type": "stream",
     "text": [
      "Getting Season: 2023, Week: 14, Season_Type: regular, start_time: 1702003831.7652962\n",
      "\n",
      "Got plays\n",
      "\n",
      "Loaded into duckdb. Result: <duckdb.duckdb.DuckDBPyConnection object at 0x161413970>, end_time: 1702003832.5989041, elapsed: 0.8336079120635986\n",
      "\n"
     ]
    }
   ],
   "source": [
    "plays_api = cfbd.PlaysApi(api_config)\n",
    "con = duckdb.connect('cfb.db')\n",
    "start = time.time()\n",
    "print(f\"Getting Season: {season}, Week: {week}, Season_Type: {season_type}, start_time: {start}\\n\")\n",
    "plays = plays_api.get_plays(year=season,week=week,season_type=season_type)\n",
    "print(f\"Got plays\\n\")\n",
    "week_df = pd.DataFrame().from_records([pbp.to_dict() for pbp in plays])\n",
    "if season_type == 'regular' and week == 1:\n",
    "    result = con.execute(f\"CREATE TABLE plays_{season} AS SELECT * FROM week_df\")\n",
    "else:\n",
    "    result = con.execute(f\"INSERT INTO plays_{season} SELECT * FROM week_df\")\n",
    "end = time.time()\n",
    "print(f\"Loaded into duckdb. Result: {result}, end_time: {end}, elapsed: {end - start}\\n\")"
   ]
  },
  {
   "cell_type": "code",
   "execution_count": 7,
   "metadata": {},
   "outputs": [
    {
     "data": {
      "text/html": [
       "<div>\n",
       "<style scoped>\n",
       "    .dataframe tbody tr th:only-of-type {\n",
       "        vertical-align: middle;\n",
       "    }\n",
       "\n",
       "    .dataframe tbody tr th {\n",
       "        vertical-align: top;\n",
       "    }\n",
       "\n",
       "    .dataframe thead th {\n",
       "        text-align: right;\n",
       "    }\n",
       "</style>\n",
       "<table border=\"1\" class=\"dataframe\">\n",
       "  <thead>\n",
       "    <tr style=\"text-align: right;\">\n",
       "      <th></th>\n",
       "      <th>season</th>\n",
       "      <th>week</th>\n",
       "      <th>season_type</th>\n",
       "      <th>first_game_start</th>\n",
       "      <th>last_game_start</th>\n",
       "      <th>'2023-12-02'</th>\n",
       "    </tr>\n",
       "  </thead>\n",
       "  <tbody>\n",
       "  </tbody>\n",
       "</table>\n",
       "</div>"
      ],
      "text/plain": [
       "Empty DataFrame\n",
       "Columns: [season, week, season_type, first_game_start, last_game_start, '2023-12-02']\n",
       "Index: []"
      ]
     },
     "execution_count": 7,
     "metadata": {},
     "output_type": "execute_result"
    }
   ],
   "source": [
    "cal_df"
   ]
  },
  {
   "cell_type": "code",
   "execution_count": 8,
   "metadata": {},
   "outputs": [
    {
     "data": {
      "text/plain": [
       "(datetime.date(2023, 12, 7), datetime.date(2023, 12, 2))"
      ]
     },
     "execution_count": 8,
     "metadata": {},
     "output_type": "execute_result"
    }
   ],
   "source": [
    "today, sat"
   ]
  },
  {
   "cell_type": "code",
   "execution_count": null,
   "metadata": {},
   "outputs": [],
   "source": []
  }
 ],
 "metadata": {
  "kernelspec": {
   "display_name": "cfb",
   "language": "python",
   "name": "python3"
  },
  "language_info": {
   "codemirror_mode": {
    "name": "ipython",
    "version": 3
   },
   "file_extension": ".py",
   "mimetype": "text/x-python",
   "name": "python",
   "nbconvert_exporter": "python",
   "pygments_lexer": "ipython3",
   "version": "3.11.4"
  }
 },
 "nbformat": 4,
 "nbformat_minor": 2
}
