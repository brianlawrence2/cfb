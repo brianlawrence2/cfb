{
 "cells": [
  {
   "cell_type": "code",
   "execution_count": 3,
   "metadata": {},
   "outputs": [],
   "source": [
    "import time\n",
    "import os\n",
    "import cfbd\n",
    "from cfbd.rest import ApiException\n",
    "from pprint import pprint"
   ]
  },
  {
   "cell_type": "code",
   "execution_count": 16,
   "metadata": {},
   "outputs": [],
   "source": [
    "configuration = cfbd.Configuration()\n",
    "configuration.api_key['Authorization'] = os.getenv('API_KEY')\n",
    "#configuration.api_key_prefix['Authorization'] = 'Bearer'"
   ]
  },
  {
   "cell_type": "code",
   "execution_count": 14,
   "metadata": {},
   "outputs": [
    {
     "name": "stdout",
     "output_type": "stream",
     "text": [
      "Exception when calling BettingApi->get_lines: (401)\n",
      "Reason: Unauthorized\n",
      "HTTP response headers: HTTPHeaderDict({'Date': 'Tue, 10 Oct 2023 22:34:40 GMT', 'Content-Type': 'text/html; charset=utf-8', 'Transfer-Encoding': 'chunked', 'Connection': 'keep-alive', 'X-DNS-Prefetch-Control': 'off', 'Expect-CT': 'max-age=0', 'X-Frame-Options': 'SAMEORIGIN', 'Strict-Transport-Security': 'max-age=15552000; includeSubDomains', 'X-Download-Options': 'noopen', 'X-Content-Type-Options': 'nosniff', 'X-Permitted-Cross-Domain-Policies': 'none', 'Referrer-Policy': 'no-referrer', 'X-XSS-Protection': '0', 'Vary': 'Origin', 'CF-Cache-Status': 'DYNAMIC', 'Report-To': '{\"endpoints\":[{\"url\":\"https:\\\\/\\\\/a.nel.cloudflare.com\\\\/report\\\\/v3?s=1OtDH0DbkP5p4p98t8GgqnAZhAk6FrzC%2FxU%2BHeWAroIC0ZuoeiF3v0NoS6CEqfx9Az9RhyLYCV59i6qOcAW4sK%2Fp601rfKRS6fn0Abl%2FnVz0%2FxHTRvDqBcMtou3KnDNljwEHU5%2F0Lq1j5XEEXqE%3D\"}],\"group\":\"cf-nel\",\"max_age\":604800}', 'NEL': '{\"success_fraction\":0,\"report_to\":\"cf-nel\",\"max_age\":604800}', 'Server': 'cloudflare', 'CF-RAY': '81425500ceca6f9d-IAD', 'alt-svc': 'h3=\":443\"; ma=86400'})\n",
      "HTTP response body: Unauthorized. Did you forget to add \"Bearer \" before your key? Go to CollegeFootballData.com to register for your free API key. See the CFBD Blog for examples on usage: https://blog.collegefootballdata.com/using-api-keys-with-the-cfbd-api.\n",
      "\n",
      "\n"
     ]
    }
   ],
   "source": [
    "api_instance = cfbd.BettingApi(cfbd.ApiClient(configuration))\n",
    "game_id = 56 # int | Game id filter (optional)\n",
    "year = 2023 # int | Year/season filter for games (optional)\n",
    "week = 6 # int | Week filter (optional)\n",
    "season_type = 'regular' # str | Season type filter (regular or postseason) (optional) (default to regular)\n",
    "team = 'team_example' # str | Team (optional)\n",
    "home = 'home_example' # str | Home team filter (optional)\n",
    "away = 'away_example' # str | Away team filter (optional)\n",
    "conference = 'conference_example' # str | Conference abbreviation filter (optional)\n",
    "\n",
    "try:\n",
    "    # Betting lines\n",
    "    api_response = api_instance.get_lines(game_id=game_id, year=year, week=week, season_type=season_type, team=team, home=home, away=away, conference=conference)\n",
    "    pprint(api_response)\n",
    "except ApiException as e:\n",
    "    print(\"Exception when calling BettingApi->get_lines: %s\\n\" % e)"
   ]
  },
  {
   "cell_type": "code",
   "execution_count": null,
   "metadata": {},
   "outputs": [],
   "source": []
  }
 ],
 "metadata": {
  "kernelspec": {
   "display_name": "Python 3",
   "language": "python",
   "name": "python3"
  },
  "language_info": {
   "codemirror_mode": {
    "name": "ipython",
    "version": 3
   },
   "file_extension": ".py",
   "mimetype": "text/x-python",
   "name": "python",
   "nbconvert_exporter": "python",
   "pygments_lexer": "ipython3",
   "version": "3.11.6"
  }
 },
 "nbformat": 4,
 "nbformat_minor": 2
}
